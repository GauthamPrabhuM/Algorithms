{
  "nbformat": 4,
  "nbformat_minor": 0,
  "metadata": {
    "colab": {
      "name": "Untitled1.ipynb",
      "provenance": [],
      "collapsed_sections": [],
      "authorship_tag": "ABX9TyNwVpY1YTrLCASZyj2ZAnhO",
      "include_colab_link": true
    },
    "kernelspec": {
      "name": "python3",
      "display_name": "Python 3"
    }
  },
  "cells": [
    {
      "cell_type": "markdown",
      "metadata": {
        "id": "view-in-github",
        "colab_type": "text"
      },
      "source": [
        "<a href=\"https://colab.research.google.com/github/GauthamPrabhuM/Algorithms/blob/main/t.ipynb\" target=\"_parent\"><img src=\"https://colab.research.google.com/assets/colab-badge.svg\" alt=\"Open In Colab\"/></a>"
      ]
    },
    {
      "cell_type": "code",
      "metadata": {
        "id": "k-OCi7hzIw88"
      },
      "source": [
        "import numpy as np\r\n",
        "import cv2\r\n",
        "\r\n",
        "cap = cv2.VideoCapture('challenge_video.mp4')\r\n",
        "fourcc = cv2.VideoWriter_fourcc(*'MP4V')\r\n",
        "out = cv2.VideoWriter('output.mp4', 0x7634706d, 20.0, (640,480))\r\n",
        "\r\n",
        "import cv2\r\n",
        "import numpy as np\r\n",
        " \r\n",
        "def canny(img):\r\n",
        "    if img is None:\r\n",
        "        cap.release()\r\n",
        "        cv2.destroyAllWindows()\r\n",
        "        exit()\r\n",
        "    gray = cv2.cvtColor(img, cv2.COLOR_BGR2GRAY)\r\n",
        "    kernel = 5\r\n",
        "    blur = cv2.GaussianBlur(gray,(kernel, kernel),0)\r\n",
        "    canny = cv2.Canny(gray, 50, 150)\r\n",
        "    return canny\r\n",
        "\r\n",
        "def region_of_interest(canny):\r\n",
        "    height = canny.shape[0]\r\n",
        "    width = canny.shape[1]\r\n",
        "    mask = np.zeros_like(canny)\r\n",
        "    triangle = np.array([[\r\n",
        "    (200, height),\r\n",
        "    (800, 350),\r\n",
        "    (1200, height),]], np.int32)\r\n",
        "    cv2.fillPoly(mask, triangle, 255)\r\n",
        "    masked_image = cv2.bitwise_and(canny, mask)\r\n",
        "    return masked_image\r\n",
        "\r\n",
        "def houghLines(cropped_canny):\r\n",
        "    return cv2.HoughLinesP(cropped_canny, 2, np.pi/180, 100, \r\n",
        "        np.array([]), minLineLength=40, maxLineGap=5)\r\n",
        "\r\n",
        "def addWeighted(frame, line_image):\r\n",
        "    return cv2.addWeighted(frame, 0.8, line_image, 1, 1)\r\n",
        " \r\n",
        "def display_lines(img,lines):\r\n",
        "    line_image = np.zeros_like(img)\r\n",
        "    if lines is not None:\r\n",
        "        for line in lines:\r\n",
        "            for x1, y1, x2, y2 in line:\r\n",
        "                cv2.line(line_image,(x1,y1),(x2,y2),(0,0,255),10)\r\n",
        "    return line_image\r\n",
        " \r\n",
        "def make_points(image, line):\r\n",
        "    slope, intercept = line\r\n",
        "    y1 = int(image.shape[0])\r\n",
        "    y2 = int(y1*3.0/5)      \r\n",
        "    x1 = int((y1 - intercept)/slope)\r\n",
        "    x2 = int((y2 - intercept)/slope)\r\n",
        "    return [[x1, y1, x2, y2]]\r\n",
        " \r\n",
        "def average_slope_intercept(image, lines):\r\n",
        "    left_fit    = []\r\n",
        "    right_fit   = []\r\n",
        "    if lines is None:\r\n",
        "        return None\r\n",
        "    for line in lines:\r\n",
        "        for x1, y1, x2, y2 in line:\r\n",
        "            fit = np.polyfit((x1,x2), (y1,y2), 1)\r\n",
        "            slope = fit[0]\r\n",
        "            intercept = fit[1]\r\n",
        "            if slope < 0: \r\n",
        "                left_fit.append((slope, intercept))\r\n",
        "            else:\r\n",
        "                right_fit.append((slope, intercept))\r\n",
        "    left_fit_average  = np.average(left_fit, axis=0)\r\n",
        "    right_fit_average = np.average(right_fit, axis=0)\r\n",
        "    left_line  = make_points(image, left_fit_average)\r\n",
        "    right_line = make_points(image, right_fit_average)\r\n",
        "    averaged_lines = [left_line, right_line]\r\n",
        "    return averaged_lines\r\n",
        "\r\n",
        "cap = cv2.VideoCapture(\"test1.mp4\")\r\n",
        "while(cap.isOpened()):\r\n",
        "    _, frame = cap.read()\r\n",
        "    canny_image = canny(frame)\r\n",
        "    cropped_canny = region_of_interest(canny_image)\r\n",
        "    # cv2.imshow(\"cropped_canny\",cropped_canny)\r\n",
        "\r\n",
        "    lines = houghLines(cropped_canny)\r\n",
        "    averaged_lines = average_slope_intercept(frame, lines)\r\n",
        "    line_image = display_lines(frame, averaged_lines)\r\n",
        "    combo_image = addWeighted(frame, line_image)\r\n",
        "    cv2.imshow(\"result\", combo_image)\r\n",
        "    \r\n",
        "    if cv2.waitKey(1) & 0xFF == ord('q'):\r\n",
        "        break\r\n",
        "\r\n",
        "cap.release()\r\n",
        "cv2.destroyAllWindows()\r\n",
        "\r\n",
        "\r\n"
      ],
      "execution_count": 8,
      "outputs": []
    },
    {
      "cell_type": "code",
      "metadata": {
        "id": "1kILEFvTIxiJ"
      },
      "source": [
        ""
      ],
      "execution_count": 5,
      "outputs": []
    },
    {
      "cell_type": "code",
      "metadata": {
        "id": "nvfmfWNeJeO-"
      },
      "source": [
        ""
      ],
      "execution_count": null,
      "outputs": []
    }
  ]
}